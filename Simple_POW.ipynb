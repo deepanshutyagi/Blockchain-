{
 "cells": [
  {
   "cell_type": "code",
   "execution_count": 27,
   "metadata": {},
   "outputs": [
    {
     "name": "stdout",
     "output_type": "stream",
     "text": [
      "00000f9b99eeb7e14f8ea115b781596dae461fe3407be7bfebba203342e068ac\n",
      "51.4587268829\n",
      "7nLE5Fjm7AzxhezusyQhKTJ2y\n"
     ]
    }
   ],
   "source": [
    "import string\n",
    "import hashlib\n",
    "import random\n",
    "import time\n",
    "\n",
    "example_challenge=\"989hjhjhdjhfdsdhfhsfhsdfhshfshf\"\n",
    "\n",
    "def generation(challenge=example_challenge,size=25):\n",
    "        answer=\"\".join(random.choice(string.ascii_lowercase+string.ascii_uppercase+string.digits)for x in range(size))\n",
    "         \n",
    "        attempt=challenge+answer\n",
    "       \n",
    "        return attempt,answer\n",
    "\n",
    "shaHash=hashlib.sha256()\n",
    "\n",
    "def testAttempt():\n",
    "    Found=False\n",
    "    start=time.time()\n",
    "   \n",
    "    while Found==False:\n",
    "        \n",
    "        attempt, answer= generation()\n",
    "        shaHash.update(attempt)\n",
    "        solution=shaHash.hexdigest()\n",
    "        if solution.startswith(\"00000\"):\n",
    "            timetook=time.time() - start\n",
    "            Found=True\n",
    "            print solution\n",
    "            print timetook\n",
    "    \n",
    "    print answer\n",
    "    \n",
    "\n",
    "\n",
    "\n",
    "testAttempt()\n",
    "\n"
   ]
  },
  {
   "cell_type": "code",
   "execution_count": null,
   "metadata": {
    "collapsed": true
   },
   "outputs": [],
   "source": []
  },
  {
   "cell_type": "code",
   "execution_count": null,
   "metadata": {
    "collapsed": true
   },
   "outputs": [],
   "source": []
  }
 ],
 "metadata": {
  "kernelspec": {
   "display_name": "Python 2",
   "language": "python",
   "name": "python2"
  },
  "language_info": {
   "codemirror_mode": {
    "name": "ipython",
    "version": 2
   },
   "file_extension": ".py",
   "mimetype": "text/x-python",
   "name": "python",
   "nbconvert_exporter": "python",
   "pygments_lexer": "ipython2",
   "version": "2.7.12"
  }
 },
 "nbformat": 4,
 "nbformat_minor": 2
}
