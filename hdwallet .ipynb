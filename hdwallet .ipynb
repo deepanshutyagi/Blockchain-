{
 "cells": [
  {
   "cell_type": "code",
   "execution_count": 9,
   "metadata": {},
   "outputs": [
    {
     "name": "stdout",
     "output_type": "stream",
     "text": [
      "- Private Extended Key (m): xprv9s21ZrQH143K3dDaqpYX8xJWNBT7S1azx3Jvh5tjuZmXS3cLUJzG1autmmmeSFzRZF2GQm7Dr8f36saxwZGoHjhHb4u33FgkTi3cvjgFeFK\n",
      " \n",
      " child number 0\n",
      "Child: m/23/42\n",
      "Address: 1AhBvXtCxgo4FuuJoLKDXD8EDQ7dYUjAKx\n",
      "Privkey: e5f0ccc4dc100ea3af781af7f4dc76aaf51aacbd6ce2034a5fe3e136d127a7bc\n",
      "Publickey b27d483ff043341675e1d677082f8c5f42408ee776ece35c8b126bf9c68ce4f2ae51e6784d56b075b933ca665213a09abee450e1c2abfb69d119afce06a57443\n",
      "- Private Extended Key (m): xprv9s21ZrQH143K3dDaqpYX8xJWNBT7S1azx3Jvh5tjuZmXS3cLUJzG1autmmmeSFzRZF2GQm7Dr8f36saxwZGoHjhHb4u33FgkTi3cvjgFeFK\n",
      " \n",
      " child number 1\n",
      "Child: m/23/42\n",
      "Address: 172W5dNZgNsZ9C2Griw86nfw9Pz7Wye1mD\n",
      "Privkey: 44c890a6f12e8387e1b061bae5ddbf2508e1d29c12ef750be0afc694fa3a7571\n",
      "Publickey 5d240589d7ea651f2fb18ff6d781d3b6d849ca9eb5f6b1df57ed69acc5f758f1ec2ab66f882246c7c43ff202107086c2f75e7421bf9fcc3a19cf6fc819d0b7f5\n",
      "- Private Extended Key (m): xprv9s21ZrQH143K3dDaqpYX8xJWNBT7S1azx3Jvh5tjuZmXS3cLUJzG1autmmmeSFzRZF2GQm7Dr8f36saxwZGoHjhHb4u33FgkTi3cvjgFeFK\n",
      " \n",
      " child number 2\n",
      "Child: m/23/42\n",
      "Address: 19md8upMUYYQmpL3T5ySoYZsAx2AfUshfM\n",
      "Privkey: dfb31824e3d648d9e5fccd0862d00c8b32bd752c03d6b47085a082a1da3ac906\n",
      "Publickey 2b02057274570b11987d03f2049077593a58d1314aaabf00a420a8db8580c857491373677fd1b5289f68a52e43fedd16ba7cadbbcf3abb005f5558065e35fc8f\n",
      "- Private Extended Key (m): xprv9s21ZrQH143K3dDaqpYX8xJWNBT7S1azx3Jvh5tjuZmXS3cLUJzG1autmmmeSFzRZF2GQm7Dr8f36saxwZGoHjhHb4u33FgkTi3cvjgFeFK\n",
      " \n",
      " child number 3\n",
      "Child: m/23/42\n",
      "Address: 19MPi8r9W9XWbjHCBs7KhPQ2nbxAauQDpG\n",
      "Privkey: 3466c18557cd0fbba770866491c5e0fccd5a7fb8a1468521860cc5ca40e6119d\n",
      "Publickey e2aa54ef7829ffd75b63dcdd2cde0d72dfc272d18eb915d58983aa2623907579f940da7911a0a87148fd072c7a6b4a3953e7f612c48d0722770855e57dd14bdb\n",
      "- Private Extended Key (m): xprv9s21ZrQH143K3dDaqpYX8xJWNBT7S1azx3Jvh5tjuZmXS3cLUJzG1autmmmeSFzRZF2GQm7Dr8f36saxwZGoHjhHb4u33FgkTi3cvjgFeFK\n",
      " \n",
      " child number 4\n",
      "Child: m/23/42\n",
      "Address: 15N6M1hRSN6nQeHqB4N8bYa2vv364PU1hZ\n",
      "Privkey: 4d5b5fa3f06b1552ec6df4f3b6fe461e09145cae4ca3ca6b8ef3ae2255d6166e\n",
      "Publickey c7d579bf51c4fa6421155e1b8e73d8b412b9542113ac66a39d071f6715101574859d0f7bcf99a9b4d946807979249c74444fe8d97e2cbf611ac31e9ae8c22cd4\n",
      "- Private Extended Key (m): xprv9s21ZrQH143K3dDaqpYX8xJWNBT7S1azx3Jvh5tjuZmXS3cLUJzG1autmmmeSFzRZF2GQm7Dr8f36saxwZGoHjhHb4u33FgkTi3cvjgFeFK\n",
      " \n",
      " child number 5\n",
      "Child: m/23/42\n",
      "Address: 1AZx2CTfcubgjoMfgbpaaWgWVLHMZe9AuZ\n",
      "Privkey: dd97b373c3ae943a9199278eb455ca3f3cfde0e43db2de47d25597500b0cf162\n",
      "Publickey 41b526457cc87f4a2ce0a1563b78b0477b1410fd002cedae7632a89cb6598284eaf3b007058634d3089b7fd49b6f782b1c86fa69ff46726ed5e73b3f74eb1182\n",
      "- Private Extended Key (m): xprv9s21ZrQH143K3dDaqpYX8xJWNBT7S1azx3Jvh5tjuZmXS3cLUJzG1autmmmeSFzRZF2GQm7Dr8f36saxwZGoHjhHb4u33FgkTi3cvjgFeFK\n",
      " \n",
      " child number 6\n",
      "Child: m/23/42\n",
      "Address: 14BiWgJupoC2XaKu62pFijwAXvKgxAymum\n",
      "Privkey: f9e433b001ad82330efe2329538a9bb05dba90b2c8e235ec70333f91f0f3091c\n",
      "Publickey 863fa31adfcc637d714ddf456839da5963cd32f8c9bcb691c41aea9ba1bee8e3cbac6e9030ec567c48d5ce0419ad9fee8857669ea0289c18f091c9c7e729fd00\n",
      "- Private Extended Key (m): xprv9s21ZrQH143K3dDaqpYX8xJWNBT7S1azx3Jvh5tjuZmXS3cLUJzG1autmmmeSFzRZF2GQm7Dr8f36saxwZGoHjhHb4u33FgkTi3cvjgFeFK\n",
      " \n",
      " child number 7\n",
      "Child: m/23/42\n",
      "Address: 1EUQTJhLipEBLEydHWKJjhdNVQe8QZotN4\n",
      "Privkey: d627570664869d2f27528d6b62542a2919272c061c008370578788bf737e37cd\n",
      "Publickey e630fbde8ba3cc2b6b67522669b132addb1597df12d8473aba3d6a8c1c24e994d4fa5eb7bd705b8f5515f9f309487f1b076fdcea5fe458b1f27ac30baec591eb\n",
      "- Private Extended Key (m): xprv9s21ZrQH143K3dDaqpYX8xJWNBT7S1azx3Jvh5tjuZmXS3cLUJzG1autmmmeSFzRZF2GQm7Dr8f36saxwZGoHjhHb4u33FgkTi3cvjgFeFK\n",
      " \n",
      " child number 8\n",
      "Child: m/23/42\n",
      "Address: 1CDR2DyYcrFt7Mm4rsK1WWTt52PAYawDhb\n",
      "Privkey: 8f528a8c6a8cbd2b64dd1eaf71232038c80886812388e606d16a92638c814506\n",
      "Publickey 2fd9e3d4fae889f98d6094b6c174c547103062a565c711417a3fa372c9218899fd1d29b977d179a83caab018a0b82a943c0c68256b37a228862fa351604179bd\n",
      "- Private Extended Key (m): xprv9s21ZrQH143K3dDaqpYX8xJWNBT7S1azx3Jvh5tjuZmXS3cLUJzG1autmmmeSFzRZF2GQm7Dr8f36saxwZGoHjhHb4u33FgkTi3cvjgFeFK\n",
      " \n",
      " child number 9\n",
      "Child: m/23/42\n",
      "Address: 1JNTXDAB1raiXP3ho7vRjxBSMkPvfzecxk\n",
      "Privkey: 1de69cb2989ab74b9ff03b486d391bbec7ef80f534fb125b300c816b06ece1f3\n",
      "Publickey 2c8eecfd3e477a57a5ba792b1b53ac97744b620ac4d2e27c65ee96ff12b927ca1e3d93089c873119801bbf815dcff0834c507455aa89dc16be984056d69d063e\n"
     ]
    }
   ],
   "source": [
    "from hdwallet import HDWallet\n",
    "\n",
    "# 1. generate a master wallet with a (random) seed \n",
    "master = HDWallet.from_master_seed('HDWallet seed')\n",
    "# 2. store the Private Extended Key somewhere very (!) safe\n",
    "prv_master_key = master.to_extended_key(include_prv=True)\n",
    "# 3. store the Public Extended Key on the webserver\n",
    "pub_master_key = master.to_extended_key()\n",
    "\n",
    "\n",
    "\n",
    "# 5. In case we need the private key for a child wallet, start with the private master key\n",
    "for y in range(10):\n",
    "    cold_wallet = HDWallet.from_extended_key(prv_master_key)\n",
    "    child2342 = cold_wallet.child(y).child(y)\n",
    "    print '- Private Extended Key (m):', prv_master_key\n",
    "    print\" \" \n",
    "    print\" child number\",y\n",
    "    print 'Child: m/23/42'\n",
    "    print 'Address:', child2342.address()\n",
    "    print 'Privkey:', child2342.prvkey().encode('hex')\n",
    "    print \"Publickey\",child2342.pubkey().encode(\"hex\")"
   ]
  },
  {
   "cell_type": "code",
   "execution_count": null,
   "metadata": {
    "collapsed": true
   },
   "outputs": [],
   "source": []
  },
  {
   "cell_type": "code",
   "execution_count": null,
   "metadata": {
    "collapsed": true
   },
   "outputs": [],
   "source": []
  },
  {
   "cell_type": "code",
   "execution_count": null,
   "metadata": {
    "collapsed": true
   },
   "outputs": [],
   "source": []
  }
 ],
 "metadata": {
  "kernelspec": {
   "display_name": "Python 2",
   "language": "python",
   "name": "python2"
  },
  "language_info": {
   "codemirror_mode": {
    "name": "ipython",
    "version": 2
   },
   "file_extension": ".py",
   "mimetype": "text/x-python",
   "name": "python",
   "nbconvert_exporter": "python",
   "pygments_lexer": "ipython2",
   "version": "2.7.12"
  }
 },
 "nbformat": 4,
 "nbformat_minor": 2
}
